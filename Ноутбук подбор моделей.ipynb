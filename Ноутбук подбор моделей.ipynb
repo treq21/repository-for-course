{
 "cells": [
  {
   "cell_type": "markdown",
   "metadata": {},
   "source": [
    "# Примеры работы с моделью \"Анализ текстовых заявок\"\n",
    "\n"
   ]
  },
  {
   "cell_type": "markdown",
   "metadata": {},
   "source": []
  },
  {
   "cell_type": "code",
   "execution_count": 1,
   "metadata": {},
   "outputs": [],
   "source": [
    "from imblearn.over_sampling import RandomOverSampler \n",
    "from IPython.display import Image\n",
    "from keras.models import Sequential\n",
    "from keras.preprocessing.text import Tokenizer\n",
    "from sklearn.feature_extraction.text import TfidfVectorizer\n",
    "from sklearn.linear_model import LogisticRegression\n",
    "from sklearn.metrics import accuracy_score, precision_score ,recall_score\n",
    "from sklearn.model_selection import GridSearchCV, train_test_split\n",
    "from sklearn.pipeline import Pipeline\n",
    "from sklearn.preprocessing import LabelEncoder\n",
    "from tensorflow.keras.layers import Dense, LSTM, Embedding\n",
    "from tensorflow.keras.preprocessing.sequence import pad_sequences\n",
    "import keras\n",
    "import pandas as pd\n",
    "import pymorphy2\n",
    "import re\n",
    "import tensorflow as tf\n",
    "import warnings\n",
    "warnings.filterwarnings('ignore')\n",
    "\n",
    "%matplotlib inline \n"
   ]
  },
  {
   "cell_type": "code",
   "execution_count": 3,
   "metadata": {},
   "outputs": [
    {
     "name": "stderr",
     "output_type": "stream",
     "text": [
      "[nltk_data] Downloading package stopwords to\n",
      "[nltk_data]     C:\\Users\\n.dmitriev\\AppData\\Roaming\\nltk_data...\n",
      "[nltk_data]   Package stopwords is already up-to-date!\n",
      "[nltk_data] Downloading package stopwords to\n",
      "[nltk_data]     C:\\Users\\n.dmitriev\\AppData\\Roaming\\nltk_data...\n",
      "[nltk_data]   Package stopwords is already up-to-date!\n"
     ]
    }
   ],
   "source": [
    "import nltk\n",
    "nltk.download('stopwords')\n",
    "from nltk.corpus import stopwords\n",
    "nltk.download('stopwords')\n",
    "\n",
    "stop = set(stopwords.words(\"russian\"))\n",
    "stop_en = set(stopwords.words(\"english\"))\n",
    "stop.update(['добрый','день','день'])\n",
    "stop.update(stop_en)  \n",
    "ma = pymorphy2.MorphAnalyzer()\n",
    "def remove_stopwords(text):\n",
    "    filtered_words = [word.lower() for word in text.split() if word.lower() not in stop and len(word)>2 and '@' not in word]\n",
    "    return \" \".join(filtered_words)\n",
    "def clean_text(text):\n",
    "    text = text.replace(\"\\\\\", \" \").replace(u\"╚\", \" \").replace(u\"╩\", \" \")\n",
    "    text = text.lower()\n",
    "    text = re.sub('!_№\\-\\s\\r\\n\\s{1,}|\\-\\s\\r\\n|\\r\\n', '', text) #deleting newlines and line-breaks\n",
    "    text = re.sub('№[.,:;_%©?*,!@#$%^&()\\d]|[+=]|[[]|[]]|[/]|\"|\\s{2,}|-', ' ', text) #deleting symbols  \n",
    "    text = \" \".join(ma.parse(word)[0].normal_form for word in text.split())\n",
    "    text = ' '.join(word for word in text.split() if len(word)>3)\n",
    "    text = re.sub(r'[0-9]+', '', text)\n",
    "    text = text.replace(\"_\", \" \")\n",
    "    text = text.replace(\"!\", \" \")\n",
    "    text = text.replace(\".\", \" \")\n",
    "    text = text.replace(\",\", \" \")\n",
    "    text = text.replace(\"№\", \" \")\n",
    "    text = text.replace(\"…\", \" \")\n",
    "    text = text.replace(\":\", \" \")\n",
    "    text = text.replace(\"&lt;\", \" \")\n",
    "    text = text.replace(\" pi \", \" \")\n",
    "    text = re.sub(r'\\([^()]*\\)', '', text)\n",
    "    text = text.replace(\"td>\", \" \")\n",
    "    text = text.replace(\"<td>\", \" \")\n",
    "    text = text.replace(\"<tr>\", \" \")\n",
    "    text = text.replace(\"<table>\", \" \")\n",
    "    text = text.replace(\"<\", \" \")\n",
    "    text = text.replace(\">\", \" \")\n",
    "    text = text.replace(\"<table>\", \" \")\n",
    "    text = text.replace(\"<td>\", \" \")\n",
    "    text = text.replace(\"<tr>\", \" \")\n",
    "    text = text.replace(\"< td>\", \" \")\n",
    "    text = text.replace(\"td>\", \" \")\n",
    "    text = text.replace(\"< tr\", \" \")\n",
    "    text = text.replace(\"< table>\", \" \")\n",
    "    text = text.replace(\"<\", \" \")\n",
    "    text = text.replace(\">\", \" \")\n",
    "    text = text.replace(\" tr \", \" \")\n",
    "    text = text.replace(\" ru \", \" \")\n",
    "    text = text.replace(\"{pi}\", \" \")\n",
    "    text = text.replace(\" тс \", \" тсс \")\n",
    "    text = text.replace(\"ru&gt\", \" \")\n",
    "    text = text.replace(\";\", \" \")\n",
    "    text = re.sub(r'[\\(\\)]', ' ', text)\n",
    "    text = text.replace(\"?\", \" \")\n",
    "    text = text.replace(\"#\", \" \")\n",
    "    text = text.replace(\"»\", \" \")\n",
    "    text = text.replace(\"«\", \" \")\n",
    "    \n",
    "    \n",
    "    \n",
    "    text = remove_stopwords(text)\n",
    "\n",
    "\n",
    "    return text\n",
    "\n"
   ]
  },
  {
   "cell_type": "code",
   "execution_count": 4,
   "metadata": {
    "scrolled": true
   },
   "outputs": [
    {
     "data": {
      "text/html": [
       "<div>\n",
       "<style scoped>\n",
       "    .dataframe tbody tr th:only-of-type {\n",
       "        vertical-align: middle;\n",
       "    }\n",
       "\n",
       "    .dataframe tbody tr th {\n",
       "        vertical-align: top;\n",
       "    }\n",
       "\n",
       "    .dataframe thead th {\n",
       "        text-align: right;\n",
       "    }\n",
       "</style>\n",
       "<table border=\"1\" class=\"dataframe\">\n",
       "  <thead>\n",
       "    <tr style=\"text-align: right;\">\n",
       "      <th></th>\n",
       "      <th>text</th>\n",
       "      <th>category</th>\n",
       "      <th>Категория</th>\n",
       "    </tr>\n",
       "  </thead>\n",
       "  <tbody>\n",
       "    <tr>\n",
       "      <th>0</th>\n",
       "      <td>коллеги необходимо откорректировать работа дат...</td>\n",
       "      <td>40</td>\n",
       "      <td>оборудование и настройки датчиков - срабатыван...</td>\n",
       "    </tr>\n",
       "    <tr>\n",
       "      <th>1</th>\n",
       "      <td>коллеги вложение актуальный дать автомобиль на...</td>\n",
       "      <td>32</td>\n",
       "      <td>оборудование и настройки датчиков - зуммер</td>\n",
       "    </tr>\n",
       "    <tr>\n",
       "      <th>2</th>\n",
       "      <td>заявка номер закрытый выполненная просить напр...</td>\n",
       "      <td>41</td>\n",
       "      <td>оборудование и настройки датчиков - тахографы</td>\n",
       "    </tr>\n",
       "    <tr>\n",
       "      <th>3</th>\n",
       "      <td>ночи настройка уведомление работать корректно ...</td>\n",
       "      <td>65</td>\n",
       "      <td>уведомления</td>\n",
       "    </tr>\n",
       "    <tr>\n",
       "      <th>4</th>\n",
       "      <td>коллега просить выполнить работа включение бли...</td>\n",
       "      <td>46</td>\n",
       "      <td>оборудование и настройки датчиков - фары</td>\n",
       "    </tr>\n",
       "  </tbody>\n",
       "</table>\n",
       "</div>"
      ],
      "text/plain": [
       "                                                text  category  \\\n",
       "0  коллеги необходимо откорректировать работа дат...        40   \n",
       "1  коллеги вложение актуальный дать автомобиль на...        32   \n",
       "2  заявка номер закрытый выполненная просить напр...        41   \n",
       "3  ночи настройка уведомление работать корректно ...        65   \n",
       "4  коллега просить выполнить работа включение бли...        46   \n",
       "\n",
       "                                           Категория  \n",
       "0  оборудование и настройки датчиков - срабатыван...  \n",
       "1         оборудование и настройки датчиков - зуммер  \n",
       "2      оборудование и настройки датчиков - тахографы  \n",
       "3                                        уведомления  \n",
       "4           оборудование и настройки датчиков - фары  "
      ]
     },
     "execution_count": 4,
     "metadata": {},
     "output_type": "execute_result"
    }
   ],
   "source": [
    "# Загрузка данных\n",
    "df = pd.read_excel(r'C:\\Users\\n.dmitriev\\Downloads\\Анализ заявок\\training_dataset.xlsx')\n",
    "df = df.drop(df.columns.difference(['Категория','Текст заявки']), 1)\n",
    "\n",
    "\n",
    "# очистка текста при помощи функции очистки\n",
    "df['text'] = df.apply(lambda x: clean_text(x['Текст заявки']), axis=1)\n",
    "df['text'] = df.apply(lambda x: (x['text'].replace(\"'\", \" \")), axis=1)\n",
    "\n",
    "# кодирование классов \n",
    "# понижаем регистр\n",
    "df['Категория'] = [x.lower() for x in df['Категория']]\n",
    "le = LabelEncoder()\n",
    "df['category'] = le.fit_transform(df['Категория'])\n",
    "df = df[['text', 'category','Категория']]\n",
    "df.head()"
   ]
  },
  {
   "cell_type": "code",
   "execution_count": 5,
   "metadata": {},
   "outputs": [],
   "source": [
    "vocab_size = 6000 \n",
    "embedding_dim = 64\n",
    "max_length = 100\n",
    "trunc_type = 'post'\n",
    "padding_type = 'post'\n",
    "oov_tok = '<OOV>' # OOV = Out of Vocabulary"
   ]
  },
  {
   "cell_type": "code",
   "execution_count": 6,
   "metadata": {},
   "outputs": [],
   "source": [
    "# окончания заявки часто сожержат мусор, при этом в теме письма часто содержится вся суть\n",
    "# обрежем текст по параметру максимальной длины\n",
    "for i in range(len(df.text)):\n",
    "    df.text[i] = \" \".join(df.text[i].split()[:max_length + 1])\n",
    "\n",
    "# тут формируем переменные для третьей модели\n",
    "labels = list(df.Категория)\n",
    "\n",
    "articles = list(df.text)\n"
   ]
  },
  {
   "cell_type": "code",
   "execution_count": null,
   "metadata": {},
   "outputs": [],
   "source": []
  },
  {
   "cell_type": "code",
   "execution_count": 7,
   "metadata": {},
   "outputs": [
    {
     "data": {
      "text/plain": [
       "67"
      ]
     },
     "execution_count": 7,
     "metadata": {},
     "output_type": "execute_result"
    }
   ],
   "source": [
    "# создаём тренировочную и тестовую. выборки\n",
    "\n",
    "X_train, X_test, y_train, y_test = train_test_split(df['text'], df['category'], test_size=0.1, random_state=1)\n",
    "# считаем сколько у нас классов\n",
    "num_classes = len(set(df['category']))\n",
    "num_classes"
   ]
  },
  {
   "cell_type": "code",
   "execution_count": 8,
   "metadata": {},
   "outputs": [
    {
     "data": {
      "text/plain": [
       "['коллеги вложение актуальный дать автомобиль наличие делаваль номер фамилия водителей просьба внести изменение система скаут согласно таблице общий карта прежний видный возвратить авто авто номеров указать фамилия работать сотрудников авто который таблица карте просьба удалить карта отключить зуммер дистанционно также просьба весь автомобиль проверить настройка параметр звучание зуммер скоростной режим некоторый пропали последний выдать авто сначала звучать вообще клиент просить наладить установка зуммерный вновь устанавливать делаваль включать зуммер нужнымделаваль параметр раза постоянно возможно дать нужный заявка установка скаут новый арвать просить подключиться алексей шунина фраза взять переписка также просьба образ автоматически настроить выдавать авто делаваль скаут дать настройка обзванивать каждый пользователь']"
      ]
     },
     "execution_count": 8,
     "metadata": {},
     "output_type": "execute_result"
    }
   ],
   "source": [
    "# Сформируем общий словарь для обучения моделей из обучающей и тестовой выборки\n",
    "vocab_list = df['text'].tolist()\n",
    "vocab_list[1:2]"
   ]
  },
  {
   "cell_type": "markdown",
   "metadata": {},
   "source": [
    "# Разделим выборку на обучающую и тестовую и проверим решение для лучшей модели"
   ]
  },
  {
   "cell_type": "markdown",
   "metadata": {},
   "source": [
    "# тут мы семплируем классы (уравниваем количество случаев каждого класса)\n",
    "\n",
    "sm = RandomOverSampler()\n",
    "X_train, y_train = sm.fit_resample(X_train, y_train)\n",
    "\n",
    "\n"
   ]
  },
  {
   "cell_type": "code",
   "execution_count": 9,
   "metadata": {},
   "outputs": [
    {
     "name": "stdout",
     "output_type": "stream",
     "text": [
      "количество классов = 67\n"
     ]
    }
   ],
   "source": [
    "num_classes =  len(set(df['category']))\n",
    "print('количество классов =',num_classes)"
   ]
  },
  {
   "cell_type": "code",
   "execution_count": 10,
   "metadata": {},
   "outputs": [],
   "source": [
    "## делим выборки\n",
    "X_train, X_test, y_train, y_test = train_test_split(df['text'], df['category'], test_size=0.1, random_state=1)"
   ]
  },
  {
   "cell_type": "markdown",
   "metadata": {},
   "source": [
    "## а) пайплайн на SGDClassifier"
   ]
  },
  {
   "cell_type": "markdown",
   "metadata": {},
   "source": [
    "# при таком наборе параметров GridSearchCV ищет решение довольно долго, я оставил просто на ночь\n",
    "# подобраный pipline в ячейке ниже, выполнять её не нужно....\n",
    "# собирается pipline\n",
    "text_clf = Pipeline(steps=[('vect', TfidfVectorizer()),\n",
    "                ('tfidf', TfidfTransformer()),\n",
    "                ('clf',SGDClassifier(random_state=42, tol=None))])\n",
    "\n",
    "# для pipline собираются параметры \n",
    "# далее их подбирает GridSearchCV\n",
    "parameters = {'vect__ngram_range': [(1, 1), (1, 2),(1, 3)],'vect__max_features': (500, 1000,1500,3000,10000),'tfidf__use_idf': (True, False),'clf__loss': ('hinge', 'log_loss', 'log', 'modified_huber'),'clf__alpha': (0.001, 0.01, 0.1, 1,2,3,4,5, 10, 100)}\n",
    "gs_clf = GridSearchCV(text_clf, parameters, cv=5, n_jobs=-1) \n",
    "gs_clf = gs_clf.fit(X_train, y_train)\n",
    "predicted  = gs_clf.predict(X_test)\n",
    "\n",
    "\n"
   ]
  },
  {
   "attachments": {
    "best_estimator.png": {
     "image/png": "[encoded data removed]"
    }
   },
   "cell_type": "markdown",
   "metadata": {},
   "source": [
    "![best_estimator.png](attachment:best_estimator.png)"
   ]
  },
  {
   "cell_type": "code",
   "execution_count": 25,
   "metadata": {},
   "outputs": [
    {
     "name": "stdout",
     "output_type": "stream",
     "text": [
      "accuracy = 0.7036813518406759\n",
      "precision = 0.5674285525536948\n",
      "recall = 0.47718180387921966\n"
     ]
    }
   ],
   "source": [
    "# предсказываем классы лучшим пайплайном\n",
    "\n",
    "text_clf = Pipeline(steps=[('vect', TfidfVectorizer(max_features=5000)),\n",
    "                ('tfidf', TfidfTransformer(use_idf=False)),\n",
    "                ('clf',\n",
    "                 SGDClassifier( loss='modified_huber', max_iter=1000,\n",
    "                               random_state=42, tol=None))])\n",
    "\n",
    "text_clf.fit(X_train, y_train)\n",
    "\n",
    "predicted  = text_clf.predict(X_test)\n",
    "\n",
    "print('accuracy =',accuracy_score(y_test,predicted))\n",
    "print('precision =',precision_score(y_test,predicted,average='macro'))\n",
    "print('recall =',recall_score(y_test,predicted,average='macro'))"
   ]
  },
  {
   "cell_type": "markdown",
   "metadata": {},
   "source": [
    "# LogisticRegression"
   ]
  },
  {
   "cell_type": "code",
   "execution_count": 11,
   "metadata": {},
   "outputs": [],
   "source": [
    "def sentiment(v, c):\n",
    "    model = Pipeline(\n",
    "        [(\"vectorizer\", v), \n",
    "         (\"classifier\", c)])\n",
    "    model.fit(X_train, y_train)\n",
    "    y_pred = model.predict(X_test)\n",
    "    \n",
    "    \n",
    "    print('accuracy =',accuracy_score(y_test,y_pred))\n",
    "    print('precision =',precision_score(y_test,y_pred,average='macro'))\n",
    "    print('recall =',recall_score(y_test,y_pred,average='macro'))"
   ]
  },
  {
   "cell_type": "code",
   "execution_count": 12,
   "metadata": {},
   "outputs": [
    {
     "name": "stdout",
     "output_type": "stream",
     "text": [
      "accuracy = 0.7133373566686784\n",
      "precision = 0.5639197912729846\n",
      "recall = 0.4746316717182444\n"
     ]
    }
   ],
   "source": [
    "parameters = [{'solver': ['newton-cg', 'lbfgs', 'liblinear', 'sag', 'saga']},\n",
    "              {'penalty':['none', 'elasticnet', 'l1', 'l2']},\n",
    "              {'C':[0.001, 0.01, 0.1, 1,2,3,4,5, 10, 100]}]\n",
    "\n",
    "\n",
    "estimator = LogisticRegression()\n",
    "grid_search = GridSearchCV(estimator = estimator,  \n",
    "                           param_grid = parameters,\n",
    "                           scoring = 'accuracy',\n",
    "                           cv = 5,\n",
    "                           verbose=0)\n",
    "sentiment(TfidfVectorizer(), grid_search)"
   ]
  },
  {
   "cell_type": "markdown",
   "metadata": {},
   "source": [
    "# LSTM\n"
   ]
  },
  {
   "cell_type": "code",
   "execution_count": 13,
   "metadata": {},
   "outputs": [],
   "source": [
    "# создаём тренировочную и валидационную выборки\n",
    "\n",
    "train_articles, validation_articles, train_labels, validation_labels = train_test_split(articles, labels, test_size=0.1, random_state=1)\n",
    "\n"
   ]
  },
  {
   "cell_type": "code",
   "execution_count": 14,
   "metadata": {},
   "outputs": [],
   "source": [
    "pd.DataFrame(list(articles)).to_csv(r'C:\\Users\\n.dmitriev\\Downloads\\Анализ заявок\\learning_set.csv')"
   ]
  },
  {
   "cell_type": "code",
   "execution_count": 15,
   "metadata": {},
   "outputs": [
    {
     "data": {
      "text/plain": [
       "34278"
      ]
     },
     "execution_count": 15,
     "metadata": {},
     "output_type": "execute_result"
    }
   ],
   "source": [
    "# тут обучается токинизатор\n",
    "tokenizer = Tokenizer(num_words = vocab_size, oov_token=oov_tok)\n",
    "tokenizer.fit_on_texts(articles)\n",
    "word_index = tokenizer.word_index\n",
    "word_index.keys()\n",
    "\n",
    "len(word_index)"
   ]
  },
  {
   "cell_type": "code",
   "execution_count": 16,
   "metadata": {},
   "outputs": [],
   "source": [
    "# токинизатор создаёт векторы заявок (превращает слова в чиселки)\n",
    "\n",
    "\n",
    "train_sequences = tokenizer.texts_to_sequences(train_articles)\n",
    "train_padded = pad_sequences(train_sequences, maxlen=max_length, padding=padding_type, truncating=trunc_type, dtype='float32')\n",
    "\n",
    "validation_sequences = tokenizer.texts_to_sequences(validation_articles)\n",
    "validation_padded = pad_sequences(validation_sequences, maxlen=max_length, padding=padding_type, truncating=trunc_type,dtype='float32')\n"
   ]
  },
  {
   "cell_type": "code",
   "execution_count": 17,
   "metadata": {},
   "outputs": [],
   "source": [
    "# тут мы превращаем текст категории в лейбл категории\n",
    "encoder = LabelEncoder()\n",
    "encoder.fit(labels)\n",
    "\n",
    "train_labels = encoder.transform(train_labels)\n",
    "validation_labels = encoder.transform(validation_labels)\n",
    "\n",
    "\n"
   ]
  },
  {
   "cell_type": "code",
   "execution_count": 18,
   "metadata": {},
   "outputs": [
    {
     "data": {
      "text/plain": [
       "<AxesSubplot:>"
      ]
     },
     "execution_count": 18,
     "metadata": {},
     "output_type": "execute_result"
    },
    {
     "data": {
      "image/png": "[encoded data removed]",
      "text/plain": [
       "<Figure size 640x480 with 1 Axes>"
      ]
     },
     "metadata": {},
     "output_type": "display_data"
    }
   ],
   "source": [
    "# проверим балланс классов\n",
    "df['category'].hist()"
   ]
  },
  {
   "cell_type": "code",
   "execution_count": 19,
   "metadata": {},
   "outputs": [
    {
     "data": {
      "image/png": "[encoded data removed]",
      "text/plain": [
       "<Figure size 640x480 with 1 Axes>"
      ]
     },
     "metadata": {},
     "output_type": "display_data"
    }
   ],
   "source": [
    "\n",
    "# тут мы семплируем классы (уравниваем количество случаев каждого класса)\n",
    "\n",
    "sm = RandomOverSampler()\n",
    "train_padded, train_labels = sm.fit_resample(train_padded, train_labels)\n",
    "\n",
    "pd.Series(train_labels).hist()\n",
    "\n",
    "# onehot encoding классов\n",
    "\n",
    "training_label_seq = keras.utils.to_categorical(train_labels, num_classes)\n",
    "validation_label_seq = keras.utils.to_categorical(validation_labels, num_classes)\n",
    "\n"
   ]
  },
  {
   "cell_type": "code",
   "execution_count": 20,
   "metadata": {
    "scrolled": true
   },
   "outputs": [
    {
     "name": "stdout",
     "output_type": "stream",
     "text": [
      "Model: \"sequential\"\n",
      "_________________________________________________________________\n",
      " Layer (type)                Output Shape              Param #   \n",
      "=================================================================\n",
      " embedding (Embedding)       (None, 100, 128)          768000    \n",
      "                                                                 \n",
      " spatial_dropout1d (SpatialD  (None, 100, 128)         0         \n",
      " ropout1D)                                                       \n",
      "                                                                 \n",
      " lstm (LSTM)                 (None, 100, 134)          140968    \n",
      "                                                                 \n",
      " lstm_1 (LSTM)               (None, 134)               144184    \n",
      "                                                                 \n",
      " dense (Dense)               (None, 67)                9045      \n",
      "                                                                 \n",
      "=================================================================\n",
      "Total params: 1,062,197\n",
      "Trainable params: 1,062,197\n",
      "Non-trainable params: 0\n",
      "_________________________________________________________________\n"
     ]
    }
   ],
   "source": [
    "# создаём и собираем модель\n",
    "\n",
    "model_lstm = Sequential()\n",
    "\n",
    "\n",
    "model_lstm.add(Embedding(vocab_size, 128, input_length=max_length))\n",
    "model_lstm.add(tf.keras.layers.SpatialDropout1D(0.5))\n",
    "model_lstm.add(LSTM(num_classes * 2, return_sequences=True))\n",
    "model_lstm.add(LSTM(num_classes * 2))\n",
    "model_lstm.add(Dense(num_classes, activation=\"softmax\"))\n",
    "\n",
    "model_lstm.compile(optimizer='adam', \n",
    "              loss='categorical_crossentropy', \n",
    "              metrics=['accuracy', 'AUC'])\n",
    "\n",
    "model_lstm.summary()\n",
    "\n",
    "\n"
   ]
  },
  {
   "cell_type": "code",
   "execution_count": 21,
   "metadata": {
    "scrolled": false
   },
   "outputs": [
    {
     "name": "stdout",
     "output_type": "stream",
     "text": [
      "Epoch 1/14\n",
      "205/205 - 283s - loss: 3.5802 - accuracy: 0.1027 - auc: 0.7848 - val_loss: 3.4341 - val_accuracy: 0.0978 - val_auc: 0.8192 - 283s/epoch - 1s/step\n",
      "Epoch 2/14\n",
      "205/205 - 286s - loss: 2.8728 - accuracy: 0.2189 - auc: 0.8920 - val_loss: 3.1869 - val_accuracy: 0.1521 - val_auc: 0.8511 - 286s/epoch - 1s/step\n",
      "Epoch 3/14\n",
      "205/205 - 286s - loss: 2.3972 - accuracy: 0.3293 - auc: 0.9288 - val_loss: 2.9247 - val_accuracy: 0.2185 - val_auc: 0.8788 - 286s/epoch - 1s/step\n",
      "Epoch 4/14\n",
      "205/205 - 286s - loss: 2.0122 - accuracy: 0.4267 - auc: 0.9489 - val_loss: 2.8190 - val_accuracy: 0.2185 - val_auc: 0.8920 - 286s/epoch - 1s/step\n",
      "Epoch 5/14\n",
      "205/205 - 289s - loss: 1.6397 - accuracy: 0.5124 - auc: 0.9672 - val_loss: 2.4964 - val_accuracy: 0.3301 - val_auc: 0.9072 - 289s/epoch - 1s/step\n",
      "Epoch 6/14\n",
      "205/205 - 298s - loss: 1.2745 - accuracy: 0.6204 - auc: 0.9779 - val_loss: 2.3509 - val_accuracy: 0.3953 - val_auc: 0.9145 - 298s/epoch - 1s/step\n",
      "Epoch 7/14\n",
      "205/205 - 313s - loss: 1.0288 - accuracy: 0.6993 - auc: 0.9835 - val_loss: 2.2837 - val_accuracy: 0.4327 - val_auc: 0.9161 - 313s/epoch - 2s/step\n",
      "Epoch 8/14\n",
      "205/205 - 304s - loss: 0.8422 - accuracy: 0.7611 - auc: 0.9873 - val_loss: 2.1694 - val_accuracy: 0.4786 - val_auc: 0.9204 - 304s/epoch - 1s/step\n",
      "Epoch 9/14\n",
      "205/205 - 298s - loss: 0.6904 - accuracy: 0.8085 - auc: 0.9898 - val_loss: 2.1237 - val_accuracy: 0.5045 - val_auc: 0.9216 - 298s/epoch - 1s/step\n",
      "Epoch 10/14\n",
      "205/205 - 298s - loss: 0.5851 - accuracy: 0.8375 - auc: 0.9919 - val_loss: 2.0809 - val_accuracy: 0.5190 - val_auc: 0.9208 - 298s/epoch - 1s/step\n",
      "Epoch 11/14\n",
      "205/205 - 301s - loss: 0.5074 - accuracy: 0.8586 - auc: 0.9931 - val_loss: 2.0832 - val_accuracy: 0.5438 - val_auc: 0.9205 - 301s/epoch - 1s/step\n",
      "Epoch 12/14\n",
      "205/205 - 303s - loss: 0.4458 - accuracy: 0.8768 - auc: 0.9939 - val_loss: 2.0691 - val_accuracy: 0.5432 - val_auc: 0.9194 - 303s/epoch - 1s/step\n",
      "Epoch 13/14\n",
      "205/205 - 304s - loss: 0.3910 - accuracy: 0.8925 - auc: 0.9949 - val_loss: 2.0283 - val_accuracy: 0.5655 - val_auc: 0.9189 - 304s/epoch - 1s/step\n",
      "Epoch 14/14\n",
      "205/205 - 304s - loss: 0.3527 - accuracy: 0.9029 - auc: 0.9955 - val_loss: 2.0773 - val_accuracy: 0.5721 - val_auc: 0.9172 - 304s/epoch - 1s/step\n"
     ]
    },
    {
     "data": {
      "image/png": "[encoded data removed]",
      "text/plain": [
       "<Figure size 640x480 with 1 Axes>"
      ]
     },
     "metadata": {},
     "output_type": "display_data"
    },
    {
     "data": {
      "image/png": "[encoded data removed]",
      "text/plain": [
       "<Figure size 640x480 with 1 Axes>"
      ]
     },
     "metadata": {},
     "output_type": "display_data"
    }
   ],
   "source": [
    "# обучаем модель\n",
    "num_epochs = 14\n",
    "\n",
    "history = model_lstm.fit(train_padded, training_label_seq, epochs=num_epochs, validation_data=(validation_padded, validation_label_seq),\n",
    "                         batch_size=500,\n",
    "                         validation_split=0.1,\n",
    "                         shuffle=True,\n",
    "                         verbose=2\n",
    "                         )\n",
    "import matplotlib.pyplot as plt\n",
    "\n",
    "def plot_graphs(history, string):\n",
    "  plt.plot(history.history[string])\n",
    "  plt.plot(history.history['val_'+string])\n",
    "  plt.xlabel(\"Epochs\")\n",
    "  plt.ylabel(string)\n",
    "  plt.legend([string, 'val_'+string])\n",
    "  plt.show()\n",
    "  \n",
    "plot_graphs(history, \"accuracy\")\n",
    "plot_graphs(history, \"loss\")"
   ]
  }
 ],
 "metadata": {
  "kernelspec": {
   "display_name": "Python 3 (ipykernel)",
   "language": "python",
   "name": "python3"
  },
  "language_info": {
   "codemirror_mode": {
    "name": "ipython",
    "version": 3
   },
   "file_extension": ".py",
   "mimetype": "text/x-python",
   "name": "python",
   "nbconvert_exporter": "python",
   "pygments_lexer": "ipython3",
   "version": "3.9.12"
  },
  "toc": {
   "base_numbering": 1,
   "nav_menu": {},
   "number_sections": true,
   "sideBar": true,
   "skip_h1_title": false,
   "title_cell": "Table of Contents",
   "title_sidebar": "Contents",
   "toc_cell": false,
   "toc_position": {
    "height": "calc(100% - 180px)",
    "left": "10px",
    "top": "150px",
    "width": "352.675px"
   },
   "toc_section_display": true,
   "toc_window_display": false
  }
 },
 "nbformat": 4,
 "nbformat_minor": 2
}
