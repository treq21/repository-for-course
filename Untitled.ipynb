{
 "cells": [
  {
   "cell_type": "code",
   "execution_count": 5,
   "id": "dcae5980",
   "metadata": {},
   "outputs": [
    {
     "data": {
      "text/html": [
       "<div>\n",
       "<style scoped>\n",
       "    .dataframe tbody tr th:only-of-type {\n",
       "        vertical-align: middle;\n",
       "    }\n",
       "\n",
       "    .dataframe tbody tr th {\n",
       "        vertical-align: top;\n",
       "    }\n",
       "\n",
       "    .dataframe thead th {\n",
       "        text-align: right;\n",
       "    }\n",
       "</style>\n",
       "<table border=\"1\" class=\"dataframe\">\n",
       "  <thead>\n",
       "    <tr style=\"text-align: right;\">\n",
       "      <th></th>\n",
       "      <th>Unnamed: 0</th>\n",
       "      <th>0</th>\n",
       "    </tr>\n",
       "  </thead>\n",
       "  <tbody>\n",
       "    <tr>\n",
       "      <th>0</th>\n",
       "      <td>0</td>\n",
       "      <td>актуализация данных в системе добавление/удале...</td>\n",
       "    </tr>\n",
       "    <tr>\n",
       "      <th>1</th>\n",
       "      <td>1</td>\n",
       "      <td>актуализация данных в системе другое</td>\n",
       "    </tr>\n",
       "    <tr>\n",
       "      <th>2</th>\n",
       "      <td>2</td>\n",
       "      <td>актуализация данных в системе закрепление води...</td>\n",
       "    </tr>\n",
       "    <tr>\n",
       "      <th>3</th>\n",
       "      <td>3</td>\n",
       "      <td>актуализация данных в системе изменение доступ...</td>\n",
       "    </tr>\n",
       "    <tr>\n",
       "      <th>4</th>\n",
       "      <td>4</td>\n",
       "      <td>актуализация данных в системе корректировка ин...</td>\n",
       "    </tr>\n",
       "    <tr>\n",
       "      <th>...</th>\n",
       "      <td>...</td>\n",
       "      <td>...</td>\n",
       "    </tr>\n",
       "    <tr>\n",
       "      <th>62</th>\n",
       "      <td>62</td>\n",
       "      <td>работа платформы недоступность сервера</td>\n",
       "    </tr>\n",
       "    <tr>\n",
       "      <th>63</th>\n",
       "      <td>63</td>\n",
       "      <td>работа платформы ошибки при построении отчетов...</td>\n",
       "    </tr>\n",
       "    <tr>\n",
       "      <th>64</th>\n",
       "      <td>64</td>\n",
       "      <td>работа платформы проблемы при работе с по</td>\n",
       "    </tr>\n",
       "    <tr>\n",
       "      <th>65</th>\n",
       "      <td>65</td>\n",
       "      <td>уведомления</td>\n",
       "    </tr>\n",
       "    <tr>\n",
       "      <th>66</th>\n",
       "      <td>66</td>\n",
       "      <td>центр управления поездками</td>\n",
       "    </tr>\n",
       "  </tbody>\n",
       "</table>\n",
       "<p>67 rows × 2 columns</p>\n",
       "</div>"
      ],
      "text/plain": [
       "    Unnamed: 0                                                  0\n",
       "0            0  актуализация данных в системе добавление/удале...\n",
       "1            1               актуализация данных в системе другое\n",
       "2            2  актуализация данных в системе закрепление води...\n",
       "3            3  актуализация данных в системе изменение доступ...\n",
       "4            4  актуализация данных в системе корректировка ин...\n",
       "..         ...                                                ...\n",
       "62          62             работа платформы недоступность сервера\n",
       "63          63  работа платформы ошибки при построении отчетов...\n",
       "64          64          работа платформы проблемы при работе с по\n",
       "65          65                                        уведомления\n",
       "66          66                         центр управления поездками\n",
       "\n",
       "[67 rows x 2 columns]"
      ]
     },
     "execution_count": 5,
     "metadata": {},
     "output_type": "execute_result"
    }
   ],
   "source": [
    "import pandas as pd\n",
    "x = pd.read_csv(r'C:\\Users\\n.dmitriev\\Downloads\\classes.csv')\n",
    "x"
   ]
  },
  {
   "cell_type": "code",
   "execution_count": 6,
   "id": "db9ba549",
   "metadata": {},
   "outputs": [
    {
     "data": {
      "text/plain": [
       "0     актуализация данных в системе добавление/удале...\n",
       "1                  актуализация данных в системе другое\n",
       "2     актуализация данных в системе закрепление води...\n",
       "3     актуализация данных в системе изменение доступ...\n",
       "4     актуализация данных в системе корректировка ин...\n",
       "                            ...                        \n",
       "62               работа платформы недоступность сервера\n",
       "63    работа платформы ошибки при построении отчетов...\n",
       "64            работа платформы проблемы при работе с по\n",
       "65                                          уведомления\n",
       "66                           центр управления поездками\n",
       "Name: 0, Length: 67, dtype: object"
      ]
     },
     "execution_count": 6,
     "metadata": {},
     "output_type": "execute_result"
    }
   ],
   "source": [
    "x['0'] = x[]"
   ]
  },
  {
   "cell_type": "code",
   "execution_count": null,
   "id": "03f8a607",
   "metadata": {},
   "outputs": [],
   "source": []
  }
 ],
 "metadata": {
  "kernelspec": {
   "display_name": "Python 3 (ipykernel)",
   "language": "python",
   "name": "python3"
  },
  "language_info": {
   "codemirror_mode": {
    "name": "ipython",
    "version": 3
   },
   "file_extension": ".py",
   "mimetype": "text/x-python",
   "name": "python",
   "nbconvert_exporter": "python",
   "pygments_lexer": "ipython3",
   "version": "3.9.7"
  }
 },
 "nbformat": 4,
 "nbformat_minor": 5
}
